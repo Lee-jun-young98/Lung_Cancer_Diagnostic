{
 "cells": [
  {
   "cell_type": "code",
   "execution_count": 30,
   "id": "07ad7c92",
   "metadata": {},
   "outputs": [],
   "source": [
    "import copy\n",
    "import csv\n",
    "import functools\n",
    "import glob\n",
    "import os"
   ]
  },
  {
   "cell_type": "code",
   "execution_count": 31,
   "id": "cbbf4745",
   "metadata": {},
   "outputs": [],
   "source": [
    "from collections import namedtuple"
   ]
  },
  {
   "cell_type": "code",
   "execution_count": 32,
   "id": "3ee0447e",
   "metadata": {},
   "outputs": [],
   "source": [
    "import SimpleITK as sitk # 데이터 파일 포맷을 numpy로 불러들이기 위함\n",
    "import numpy as np"
   ]
  },
  {
   "cell_type": "code",
   "execution_count": 33,
   "id": "b896a6d8",
   "metadata": {},
   "outputs": [],
   "source": [
    "import torch\n",
    "import torch.cuda\n",
    "from torch.utils.data import Dataset"
   ]
  },
  {
   "cell_type": "code",
   "execution_count": 34,
   "id": "69c8a463",
   "metadata": {},
   "outputs": [
    {
     "data": {
      "text/plain": [
       "'D:\\\\Lung_Cancer_Diagnostic'"
      ]
     },
     "execution_count": 34,
     "metadata": {},
     "output_type": "execute_result"
    }
   ],
   "source": [
    "import os\n",
    "os.getcwd()"
   ]
  },
  {
   "cell_type": "code",
   "execution_count": 35,
   "id": "df465a3b",
   "metadata": {
    "scrolled": true
   },
   "outputs": [],
   "source": [
    "from util.disk import getCache # diskcache disk에  cache를 저장해주는 라이브러리\n",
    "from util.util import XyzTuple, xyz2irc\n",
    "from util.logconf import logging"
   ]
  },
  {
   "cell_type": "code",
   "execution_count": 36,
   "id": "0cd5f073",
   "metadata": {},
   "outputs": [],
   "source": [
    "log = logging.getLogger(__name__)\n",
    "log.setLevel(logging.DEBUG)"
   ]
  },
  {
   "cell_type": "code",
   "execution_count": 37,
   "id": "47bf9729",
   "metadata": {},
   "outputs": [],
   "source": [
    "raw_cache = getCache('part2ch10_raw')"
   ]
  },
  {
   "cell_type": "code",
   "execution_count": 48,
   "id": "dfb9b093",
   "metadata": {},
   "outputs": [],
   "source": [
    "CandidateInfoTuple = namedtuple(\n",
    "    'CandidateInfoTuple',\n",
    "    'isNodule_bool, diameter_mm, series_uid, center_xyz',\n",
    ")"
   ]
  },
  {
   "cell_type": "code",
   "execution_count": 49,
   "id": "4ab37a81",
   "metadata": {},
   "outputs": [],
   "source": [
    "\"\"\"\n",
    "- 인메모리나 온디스크 캐싱을 적절하게 사용하여 데이터 파이프라인 속도를 올려 놓으면 훈련 속도가 상당히 개선됨\n",
    "- 훈련 데이터셋 전체를 사용하게 되면 다운로드도 오래 걸리고 필요한 디스크 공간도 커지기 때문에 전체를 사용하는 대신 훈련 프로그램 실행에 집중\n",
    "- requireOnDisk_bool 파라미터를 사용하여 디스크 상에서 시리즈 UID가 발견되는 LUNA 데이터만 사용하고 이에 해당하는 엔트리는 csv에서 거름\n",
    "\"\"\"\n",
    "\n",
    "@functools.lru_cache(1) # 표준 인메모리 캐싱 라이브러리\n",
    "def getCandidateInfoList(requireOnDisk_bool=True): # disk에 없는 데이터를 거르기 위함\n",
    "    # 모든 디스크에 있는 모든 세트를 series_uids로 구성함\n",
    "    # 이렇게 하면 모든 하위 집합을 다운로드 하지 않더라도 사용할 수 있음\n",
    "    mhd_list = glob.glob('D:/Luna/subset*/*.mhd')\n",
    "    presentOnDisk_set = {os.path.split(p)[-1][:-4] for p in mhd_list}\n",
    "    \n",
    "    diameter_dict = {}\n",
    "    with open(\"D:/Luna/annotations.csv\", \"r\") as f:\n",
    "        for row in list(csv.reader(f))[1:]:\n",
    "            series_uid = row[0] # user_id\n",
    "            annotationCenter_xyz = tuple([float(x) for x in row[1:4]]) # xyz 좌표\n",
    "            annotationDiameter_mm = float(row[4]) # 차원 정보\n",
    "            \n",
    "            diameter_dict.setdefault(series_uid, []).append( # 첫번째 인자로 키값, 두번째 인자로 기본값을 넘김\n",
    "                (annotationCenter_xyz, annotationDiameter_mm)\n",
    "            )\n",
    "    \n",
    "    candidateInfo_list = []\n",
    "    with open('D:/Luna/candidates.csv', \"r\") as f:\n",
    "        for row in list(csv.reader(f))[1:]:\n",
    "            series_uid = row[0] # user_id\n",
    "            \n",
    "            if series_uid not in presentOnDisk_set and requireOndisk_bool: # series_uid가 없으면 서브셋에 있지만 디스크에는 없으므로 건너뜀\n",
    "                continue\n",
    "                \n",
    "            isNodule_bool = bool(int(row[4])) # 클래스\n",
    "            candidateCenter_xyz = tuple([float(x) for x in row[1:4]]) # xyz 좌표\n",
    "            \n",
    "            candidateDiameter_mm = 0.0\n",
    "            for annotation_tup in diameter_dict.get(series_uid, []):\n",
    "                annotation_xyz, annotationDiameter_mm = annotation_tup\n",
    "                for i in range(3):\n",
    "                    delta_mm = abs(candidateCenter_xyz[i] - annotationCenter_xyz[i])\n",
    "                    if delta_mm > annotationDiameter_mm / 4: # 반경을 얻기 위해 직경을 2로 나누고, 두 개의 결절 센터가 결절의 크기 기준으로\n",
    "                        break                                # 너무 떨어져 있는 지를 반지름의 절반 길이를 기준으로 판정한다.(바운딩 박스 체크)\n",
    "                else:\n",
    "                    candidateDiameter_mm = annotationDiameter_mm\n",
    "                    break\n",
    "                    \n",
    "            candidateInfo_list.append(CandidateInfoTuple(\n",
    "                isNodule_bool,\n",
    "                candidateDiameter_mm,\n",
    "                series_uid,\n",
    "                candidateCenter_xyz,\n",
    "            ))\n",
    "            \n",
    "    candidateInfo_list.sort(reverse=True) # s내림차순 정렬\n",
    "    return candidateInfo_list"
   ]
  },
  {
   "cell_type": "code",
   "execution_count": 50,
   "id": "141b746e",
   "metadata": {},
   "outputs": [],
   "source": [
    "@functools.lru_cache(1, typed=True)\n",
    "def getCt(series_uid):\n",
    "    return Ct(series_uid)"
   ]
  },
  {
   "cell_type": "code",
   "execution_count": 51,
   "id": "6f6764cb",
   "metadata": {},
   "outputs": [],
   "source": [
    "# \n",
    "@raw_cache.memoize(typed=True)\n",
    "def getCtRawCandidate(series_uid, center_xyz, width_irc):\n",
    "    ct = getCt(series_uid)\n",
    "    ct_chunk, center_irc = ct.getRawCandidate(center_xyz, width_irc)\n",
    "    return ct_chunk, center_irc"
   ]
  },
  {
   "cell_type": "markdown",
   "id": "ee81a7ca",
   "metadata": {},
   "source": [
    "# 개별 CT 스캔 로딩\n",
    "- 디스크에서 CT 데이터를 얻어와 파이썬 객체로 변환 후 3차원 결절 밀도 데이터로 사용할 수 있도록 만드는 작업\n",
    "- CT 스캔 파일의 원래 포맷은 DICOM이라고 부름\n",
    "- CT 스캔 복셀은 하운스필드 단위(https://en.wikipedia.org/wiki/Hounsfield_scale) 로 표시"
   ]
  },
  {
   "cell_type": "code",
   "execution_count": 57,
   "id": "0dad32e4",
   "metadata": {},
   "outputs": [],
   "source": [
    "class Ct:\n",
    "    def __init__(self, series_uid):\n",
    "        mhd_path = glob.glob(\n",
    "            'D:/Luna/subset*/{}.mhd'.format(series_uid)\n",
    "        )[0]\n",
    "        \n",
    "        ct_mhd = sitk.ReadImage(mhd_path) # sitk.ReadImage는 .mhd 파일뿐 아니라 .raw 파일도 읽음\n",
    "        ct_a = np.array(sitk.GetArrayFromImage(ct_mhd), dtype=np.float32)\n",
    "        \n",
    "        \"\"\"\n",
    "        공기는 -1000HU(0g/cc), 물은 0HU(1g/cc), 뼈는 +1000HU(2~3g/cc)다. \n",
    "        우리가 관심잇는 종양은 대체로 1g/cc(0HU) 근처이므로 -1000HU, 1000HU을 제거하고 1g/cc가 아닌 것도 제거함\n",
    "        \"\"\" \n",
    "        ct_a.clip(-1000, 1000, ct_a)\n",
    "        \n",
    "        self.series_uid = series_uid\n",
    "        self.hu_a = ct_a\n",
    "        \n",
    "        \"\"\"\n",
    "        환자 좌표계를 사용해 결절 위치 정하기\n",
    "        util.py에 있음\n",
    "        1. 좌표를 XYZ 체계로 만들기 위해 IRC에서 CRI로 뒤집음\n",
    "        2. 인덱스를 복셀 크기로 확대 축소\n",
    "        3. 파이썬의 @를 사용하여 방향을 나타내는 행렬과 행렬곱을 수행\n",
    "        4. 기준으로부터 오프셋을 더함\n",
    "        \"\"\"\n",
    "        self.origin_xyz = XyzTuple(*ct_mhd.GetOrigin())\n",
    "        self.vxSize_xyz = XyzTuple(*ct_mhd.GetSpacing())\n",
    "        self.direction_a = np.array(ct_mhd.GetDirection()).reshape(3, 3) # 방향 정보를 배열로 변환하고 3 x 3 행렬 모양의 9개 요소의 배열을 reshape함\n",
    "    \n",
    "    # 큰 CT 복셀 배열에서 후보의 중심 배열 좌표 정보(인덱스, 행, 열)을 사용하여 후보 샘플을 잘라내기\n",
    "    def getRawCandidate(self, center_xyz, width_irc):\n",
    "        center_irc = xyz2irc(\n",
    "            center_xyz,\n",
    "            self.origin_xyz,\n",
    "            self.vxSize_xyz,\n",
    "            self.direction_a,\n",
    "        )\n",
    "        \n",
    "        slice_list = []\n",
    "        for axis, center_val in enumerate(center_irc):\n",
    "            start_ndx = int(round(center_val - width_irc[axis]/2))\n",
    "            end_ndx = int(start_ndx + width_irc[axis])\n",
    "            slice_list.append(slice(start_ndx, end_ndx))\n",
    "            \n",
    "        ct_chunk = self.hu_a[tuple(slice_list)]\n",
    "        \n",
    "        return ct_chunk, center_irc\n",
    "        "
   ]
  },
  {
   "cell_type": "markdown",
   "id": "542eaa82",
   "metadata": {},
   "source": [
    "# 간단한 데이터셋 구현\n",
    "- Luna 데이터셋 구현\n",
    "- 초기화 후에 하나의 상수값을 반환하는 __len__ 구현\n",
    "- 인덱스를 인자로 받아 훈련(경우에 따라서는 검증)에서 사용할 샘플 데이터 튜플을 반환하는 __getitem__ 메소드\n",
    "- __len__이 N값을 반환한다면 __getitem__은 0에서 N-1까지의 입력값에 대한 유효값을 넘겨줘야함"
   ]
  },
  {
   "cell_type": "code",
   "execution_count": 58,
   "id": "6c06085d",
   "metadata": {},
   "outputs": [],
   "source": [
    "class LunaDataset(Dataset):\n",
    "    def __init__(self,\n",
    "                val_stride=0,\n",
    "                isValSet_bool=None,\n",
    "                series_uid=None,\n",
    "                ):\n",
    "        self.candidateInfo_list = copy.copy(getCandidateInfoList())\n",
    "        \n",
    "        if series_uid:\n",
    "            self.candidateInfo_list = [\n",
    "                x for x in self.candidateInfo_list if x.series_uid == series_uid\n",
    "            ]\n",
    "            \n",
    "        if isValSet_bool:\n",
    "            assert val_stride > 0, val_stride\n",
    "            self.candidateInfo_list = self.getCandidateInfoList[::val_stride]\n",
    "            assert self.candidateInfo_list\n",
    "        elif val_stride > 0:\n",
    "            del self.candidateInfo_list[::val_stride]\n",
    "            assert self.candidateInfo_list\n",
    "        \n",
    "        log.info(\"{!r}: {} {} samples\".format(\n",
    "            self,\n",
    "            len(self.candidateInfo_list),\n",
    "            \"validation\" if isValSet_bool else \"training\",\n",
    "        ))\n",
    "        \n",
    "        \n",
    "    def __len__(self):\n",
    "        return len(self.candidateInfo_list)\n",
    "    \n",
    "    def __getitem__(self, ndx):\n",
    "        candidateInfo_tup = self.candidateInfo_list[ndx]\n",
    "        width_irc = (32, 48, 48)\n",
    "        \n",
    "        candidate_a, center_irc = getCtRawCandidate(\n",
    "            candidateInfo_tup.series_uid,\n",
    "            candidateInfo_tup.center_xyz,\n",
    "            width_irc,\n",
    "        )\n",
    "        \n",
    "        candidate_t = torch.from_numpy(candidate_a)\n",
    "        candidate_t = candidate_t.to(torch.float32)\n",
    "        candidate_t = candidate_t.unsqueeze(0) # .unsqueeze(0)으로 '채널' 차원 추가\n",
    "        \n",
    "        pos_t = torch.tensor([\n",
    "                not candidateInfo_tup.isNodule_bool,\n",
    "                candidateInfo_tup.isNodule_bool\n",
    "            ],\n",
    "            dtype=torch.long,\n",
    "        )\n",
    "        \n",
    "        # 훈련 샘플 반환\n",
    "        return (\n",
    "                candidate_t,\n",
    "                pos_t,\n",
    "                candidateInfo_tup.series_uid,\n",
    "                torch.tensor(center_irc),\n",
    "        )"
   ]
  },
  {
   "cell_type": "code",
   "execution_count": 62,
   "id": "0c413f4d",
   "metadata": {},
   "outputs": [
    {
     "name": "stderr",
     "output_type": "stream",
     "text": [
      "2022-09-01 15:55:30,473 INFO     pid:17316 __main__:022:__init__ <__main__.LunaDataset object at 0x00000196DA1A8EE0>: 551065 training samples\n"
     ]
    },
    {
     "name": "stdout",
     "output_type": "stream",
     "text": [
      "(tensor([[[[-563., -282.,  -95.,  ...,   33.,   48.,   46.],\n",
      "          [-445., -195.,  -65.,  ...,   25.,   27.,   26.],\n",
      "          [-447., -203.,  -59.,  ...,    4.,    8.,   13.],\n",
      "          ...,\n",
      "          [ -19., -121., -221.,  ...,   22.,   47.,   58.],\n",
      "          [ -58., -182., -283.,  ...,   16.,   37.,   49.],\n",
      "          [-142., -273., -380.,  ...,   25.,   41.,   44.]],\n",
      "\n",
      "         [[-729., -569., -374.,  ...,   17.,   23.,   27.],\n",
      "          [-650., -502., -316.,  ...,   20.,   10.,   18.],\n",
      "          [-663., -483., -249.,  ...,    9.,   -1.,   16.],\n",
      "          ...,\n",
      "          [-119., -147., -205.,  ...,   25.,   50.,   69.],\n",
      "          [ -98., -163., -229.,  ...,   14.,   27.,   47.],\n",
      "          [-102., -203., -304.,  ...,   18.,   19.,   39.]],\n",
      "\n",
      "         [[-866., -824., -718.,  ...,   -5.,   -7.,    1.],\n",
      "          [-829., -792., -653.,  ...,    1.,   -6.,    1.],\n",
      "          [-806., -736., -517.,  ...,   14.,    3.,    7.],\n",
      "          ...,\n",
      "          [-283., -293., -307.,  ...,   54.,   67.,   95.],\n",
      "          [-277., -279., -272.,  ...,   41.,   28.,   57.],\n",
      "          [-238., -283., -315.,  ...,   51.,   29.,   49.]],\n",
      "\n",
      "         ...,\n",
      "\n",
      "         [[-852., -801., -748.,  ...,  230.,  234.,  224.],\n",
      "          [-843., -761., -721.,  ...,  249.,  241.,  234.],\n",
      "          [-782., -658., -651.,  ...,  246.,  238.,  232.],\n",
      "          ...,\n",
      "          [-855., -825., -818.,  ..., -834., -744., -551.],\n",
      "          [-851., -833., -821.,  ..., -774., -607., -364.],\n",
      "          [-829., -832., -816.,  ..., -624., -392., -181.]],\n",
      "\n",
      "         [[-802., -672., -508.,  ...,  202.,  223.,  219.],\n",
      "          [-818., -653., -488.,  ...,  215.,  233.,  228.],\n",
      "          [-829., -677., -556.,  ...,  227.,  239.,  224.],\n",
      "          ...,\n",
      "          [-815., -796., -793.,  ..., -848., -838., -752.],\n",
      "          [-843., -810., -795.,  ..., -851., -779., -580.],\n",
      "          [-839., -824., -810.,  ..., -793., -609., -349.]],\n",
      "\n",
      "         [[-794., -683., -542.,  ...,  204.,  218.,  223.],\n",
      "          [-792., -595., -397.,  ...,  212.,  224.,  214.],\n",
      "          [-823., -640., -464.,  ...,  216.,  223.,  210.],\n",
      "          ...,\n",
      "          [-725., -741., -736.,  ..., -844., -852., -835.],\n",
      "          [-792., -765., -735.,  ..., -862., -839., -720.],\n",
      "          [-859., -833., -806.,  ..., -853., -753., -531.]]]]), tensor([0, 1]), '1.3.6.1.4.1.14519.5.2.1.6279.6001.997611074084993415992563148335', tensor([128, 297, 224]))\n"
     ]
    }
   ],
   "source": [
    "# 처음 tensor는 candidate_t\n",
    "# 두번째는 cls_t\n",
    "# 세번째는 candidate_tup.series_uid\n",
    "# 네번째는 center_irc\n",
    "print(LunaDataset()[0])"
   ]
  },
  {
   "cell_type": "code",
   "execution_count": 65,
   "id": "227648e0",
   "metadata": {},
   "outputs": [
    {
     "name": "stderr",
     "output_type": "stream",
     "text": [
      "2022-09-01 15:56:00,347 INFO     pid:17316 __main__:022:__init__ <__main__.LunaDataset object at 0x00000196DA1C9F70>: 551065 training samples\n"
     ]
    },
    {
     "name": "stdout",
     "output_type": "stream",
     "text": [
      "torch.Size([1, 32, 48, 48])\n"
     ]
    }
   ],
   "source": [
    "print(LunaDataset()[0][0].shape)"
   ]
  },
  {
   "cell_type": "code",
   "execution_count": 36,
   "id": "c3546eea",
   "metadata": {},
   "outputs": [],
   "source": [
    "nums = [[1,2],[3,4]]\n",
    "r = 1\n",
    "c = 4\n",
    "\n",
    "def matrixReshape(nums, r, c):\n",
    "    flat = [x for subnums in nums for x in subnums]\n",
    "    if len(flat) != r * c:\n",
    "        return nums\n",
    "    print(list(*[iter(flat)]))\n",
    "    tuples = zip(*([iter(flat)] * c))\n",
    "    print(map(list, tuples))"
   ]
  },
  {
   "cell_type": "code",
   "execution_count": 37,
   "id": "02085442",
   "metadata": {},
   "outputs": [
    {
     "name": "stdout",
     "output_type": "stream",
     "text": [
      "[1, 2, 3, 4]\n",
      "<map object at 0x000001E1A7D4A760>\n"
     ]
    }
   ],
   "source": [
    "matrixReshape(nums, r, c)"
   ]
  },
  {
   "cell_type": "code",
   "execution_count": null,
   "id": "2e5a26ee",
   "metadata": {},
   "outputs": [],
   "source": []
  }
 ],
 "metadata": {
  "kernelspec": {
   "display_name": "Python 3 (ipykernel)",
   "language": "python",
   "name": "python3"
  },
  "language_info": {
   "codemirror_mode": {
    "name": "ipython",
    "version": 3
   },
   "file_extension": ".py",
   "mimetype": "text/x-python",
   "name": "python",
   "nbconvert_exporter": "python",
   "pygments_lexer": "ipython3",
   "version": "3.8.13"
  }
 },
 "nbformat": 4,
 "nbformat_minor": 5
}
