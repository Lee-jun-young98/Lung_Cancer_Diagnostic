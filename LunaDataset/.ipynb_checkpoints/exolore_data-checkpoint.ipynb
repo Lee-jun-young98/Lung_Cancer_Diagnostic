{
 "cells": [
  {
   "cell_type": "code",
   "execution_count": 6,
   "id": "d2c1c4e4",
   "metadata": {},
   "outputs": [],
   "source": [
    "import matplotlib.pyplot as plt\n",
    "%matplotlib inline\n",
    "import numpy as np\n",
    "import os"
   ]
  },
  {
   "cell_type": "code",
   "execution_count": 7,
   "id": "9a596197",
   "metadata": {},
   "outputs": [
    {
     "data": {
      "text/plain": [
       "'D:\\\\Lung_Cancer_Diagnostic'"
      ]
     },
     "execution_count": 7,
     "metadata": {},
     "output_type": "execute_result"
    }
   ],
   "source": [
    "os.getcwd()"
   ]
  },
  {
   "cell_type": "code",
   "execution_count": 14,
   "id": "1368ad4e",
   "metadata": {},
   "outputs": [
    {
     "name": "stdout",
     "output_type": "stream",
     "text": [
      "importing Jupyter notebook from dsets.ipynb\n"
     ]
    },
    {
     "name": "stderr",
     "output_type": "stream",
     "text": [
      "2022-09-01 16:28:11,717 INFO     pid:6556 dsets:022:__init__ <dsets.LunaDataset object at 0x0000017E3D7D8760>: 551065 training samples\n",
      "2022-09-01 16:28:12,605 INFO     pid:6556 dsets:022:__init__ <dsets.LunaDataset object at 0x0000017E3D93CAC0>: 551065 training samples\n"
     ]
    },
    {
     "name": "stdout",
     "output_type": "stream",
     "text": [
      "(tensor([[[[-563., -282.,  -95.,  ...,   33.,   48.,   46.],\n",
      "          [-445., -195.,  -65.,  ...,   25.,   27.,   26.],\n",
      "          [-447., -203.,  -59.,  ...,    4.,    8.,   13.],\n",
      "          ...,\n",
      "          [ -19., -121., -221.,  ...,   22.,   47.,   58.],\n",
      "          [ -58., -182., -283.,  ...,   16.,   37.,   49.],\n",
      "          [-142., -273., -380.,  ...,   25.,   41.,   44.]],\n",
      "\n",
      "         [[-729., -569., -374.,  ...,   17.,   23.,   27.],\n",
      "          [-650., -502., -316.,  ...,   20.,   10.,   18.],\n",
      "          [-663., -483., -249.,  ...,    9.,   -1.,   16.],\n",
      "          ...,\n",
      "          [-119., -147., -205.,  ...,   25.,   50.,   69.],\n",
      "          [ -98., -163., -229.,  ...,   14.,   27.,   47.],\n",
      "          [-102., -203., -304.,  ...,   18.,   19.,   39.]],\n",
      "\n",
      "         [[-866., -824., -718.,  ...,   -5.,   -7.,    1.],\n",
      "          [-829., -792., -653.,  ...,    1.,   -6.,    1.],\n",
      "          [-806., -736., -517.,  ...,   14.,    3.,    7.],\n",
      "          ...,\n",
      "          [-283., -293., -307.,  ...,   54.,   67.,   95.],\n",
      "          [-277., -279., -272.,  ...,   41.,   28.,   57.],\n",
      "          [-238., -283., -315.,  ...,   51.,   29.,   49.]],\n",
      "\n",
      "         ...,\n",
      "\n",
      "         [[-852., -801., -748.,  ...,  230.,  234.,  224.],\n",
      "          [-843., -761., -721.,  ...,  249.,  241.,  234.],\n",
      "          [-782., -658., -651.,  ...,  246.,  238.,  232.],\n",
      "          ...,\n",
      "          [-855., -825., -818.,  ..., -834., -744., -551.],\n",
      "          [-851., -833., -821.,  ..., -774., -607., -364.],\n",
      "          [-829., -832., -816.,  ..., -624., -392., -181.]],\n",
      "\n",
      "         [[-802., -672., -508.,  ...,  202.,  223.,  219.],\n",
      "          [-818., -653., -488.,  ...,  215.,  233.,  228.],\n",
      "          [-829., -677., -556.,  ...,  227.,  239.,  224.],\n",
      "          ...,\n",
      "          [-815., -796., -793.,  ..., -848., -838., -752.],\n",
      "          [-843., -810., -795.,  ..., -851., -779., -580.],\n",
      "          [-839., -824., -810.,  ..., -793., -609., -349.]],\n",
      "\n",
      "         [[-794., -683., -542.,  ...,  204.,  218.,  223.],\n",
      "          [-792., -595., -397.,  ...,  212.,  224.,  214.],\n",
      "          [-823., -640., -464.,  ...,  216.,  223.,  210.],\n",
      "          ...,\n",
      "          [-725., -741., -736.,  ..., -844., -852., -835.],\n",
      "          [-792., -765., -735.,  ..., -862., -839., -720.],\n",
      "          [-859., -833., -806.,  ..., -853., -753., -531.]]]]), tensor([0, 1]), '1.3.6.1.4.1.14519.5.2.1.6279.6001.997611074084993415992563148335', tensor([128, 297, 224]))\n",
      "torch.Size([1, 32, 48, 48])\n"
     ]
    }
   ],
   "source": [
    "import import_ipynb\n",
    "from dsets import getCandidateInfoList, getCt, LunaDataset\n",
    "candidateInfo_list = getCandidateInfoList(requireOnDisk_bool=False)\n",
    "positiveInfo_list = [x for x in candidateInfo_list if x[0]]\n",
    "diameter_list = [x[1] for x in positiveInfo_list]"
   ]
  },
  {
   "cell_type": "code",
   "execution_count": 15,
   "id": "63892cdb",
   "metadata": {},
   "outputs": [
    {
     "name": "stdout",
     "output_type": "stream",
     "text": [
      "1351\n",
      "CandidateInfoTuple(isNodule_bool=True, diameter_mm=23.80291305, series_uid='1.3.6.1.4.1.14519.5.2.1.6279.6001.997611074084993415992563148335', center_xyz=(-23.71929698, 31.71448919, -156.1722334))\n"
     ]
    }
   ],
   "source": [
    "print(len(positiveInfo_list))\n",
    "print(positiveInfo_list[0])"
   ]
  },
  {
   "cell_type": "code",
   "execution_count": 18,
   "id": "610eb519",
   "metadata": {},
   "outputs": [
    {
     "name": "stdout",
     "output_type": "stream",
     "text": [
      "   0 23.8 mm\n",
      " 100  0.0 mm\n",
      " 200  0.0 mm\n",
      " 300  0.0 mm\n",
      " 400  0.0 mm\n",
      " 500  0.0 mm\n",
      " 600  0.0 mm\n",
      " 700  0.0 mm\n",
      " 800  0.0 mm\n",
      " 900  0.0 mm\n",
      "1000  0.0 mm\n",
      "1100  0.0 mm\n",
      "1200  0.0 mm\n",
      "1300  0.0 mm\n"
     ]
    }
   ],
   "source": [
    "for i in range(0, len(diameter_list), 100):\n",
    "    print('{:4} {:4.1f} mm'.format(i, diameter_list[i]))"
   ]
  },
  {
   "cell_type": "code",
   "execution_count": null,
   "id": "08c0e88a",
   "metadata": {},
   "outputs": [],
   "source": []
  }
 ],
 "metadata": {
  "kernelspec": {
   "display_name": "Python 3 (ipykernel)",
   "language": "python",
   "name": "python3"
  },
  "language_info": {
   "codemirror_mode": {
    "name": "ipython",
    "version": 3
   },
   "file_extension": ".py",
   "mimetype": "text/x-python",
   "name": "python",
   "nbconvert_exporter": "python",
   "pygments_lexer": "ipython3",
   "version": "3.8.13"
  }
 },
 "nbformat": 4,
 "nbformat_minor": 5
}
