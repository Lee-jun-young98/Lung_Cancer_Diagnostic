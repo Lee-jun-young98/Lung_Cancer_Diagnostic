{
 "cells": [
  {
   "cell_type": "code",
   "execution_count": 18,
   "id": "07ad7c92",
   "metadata": {},
   "outputs": [],
   "source": [
    "import copy\n",
    "import csv\n",
    "import functools\n",
    "import glob\n",
    "import os"
   ]
  },
  {
   "cell_type": "code",
   "execution_count": 19,
   "id": "cbbf4745",
   "metadata": {},
   "outputs": [],
   "source": [
    "from collections import namedtuple"
   ]
  },
  {
   "cell_type": "code",
   "execution_count": 20,
   "id": "3ee0447e",
   "metadata": {},
   "outputs": [],
   "source": [
    "import SimpleITK as sitk # 데이터 파일 포맷을 numpy로 불러들이기 위함\n",
    "import numpy as np"
   ]
  },
  {
   "cell_type": "code",
   "execution_count": 21,
   "id": "b896a6d8",
   "metadata": {},
   "outputs": [],
   "source": [
    "import torch\n",
    "import torch.cuda\n",
    "from torch.utils.data import Dataset"
   ]
  },
  {
   "cell_type": "code",
   "execution_count": 22,
   "id": "69c8a463",
   "metadata": {},
   "outputs": [
    {
     "data": {
      "text/plain": [
       "'D:\\\\Lung_Cancer_Diagnostic'"
      ]
     },
     "execution_count": 22,
     "metadata": {},
     "output_type": "execute_result"
    }
   ],
   "source": [
    "import os\n",
    "os.getcwd()"
   ]
  },
  {
   "cell_type": "code",
   "execution_count": 24,
   "id": "df465a3b",
   "metadata": {
    "scrolled": true
   },
   "outputs": [],
   "source": [
    "from util.disk import getCache # diskcache disk에  cache를 저장해주는 라이브러리\n",
    "from util.util import XyzTuple, xyz2irc\n",
    "from util.logconf import logging"
   ]
  },
  {
   "cell_type": "code",
   "execution_count": 25,
   "id": "0cd5f073",
   "metadata": {},
   "outputs": [],
   "source": [
    "log = logging.getLogger(__name__)\n",
    "log.setLevel(logging.DEBUG)"
   ]
  },
  {
   "cell_type": "code",
   "execution_count": 26,
   "id": "47bf9729",
   "metadata": {},
   "outputs": [],
   "source": [
    "raw_cache = getCache('part2ch10_raw')"
   ]
  },
  {
   "cell_type": "code",
   "execution_count": 28,
   "id": "dfb9b093",
   "metadata": {},
   "outputs": [],
   "source": [
    "CandidateInforTuple = namedtuple(\n",
    "    'CandidateInfoTuple',\n",
    "    'isNodule_bool, diameter_mm, series_uid, center_xyz',\n",
    ")"
   ]
  },
  {
   "cell_type": "code",
   "execution_count": 44,
   "id": "4ab37a81",
   "metadata": {},
   "outputs": [],
   "source": [
    "\"\"\"\n",
    "- 인메모리나 온디스크 캐싱을 적절하게 사용하여 데이터 파이프라인 속도를 올려 놓으면 훈련 속도가 상당히 개선됨\n",
    "- 훈련 데이터셋 전체를 사용하게 되면 다운로드도 오래 걸리고 필요한 디스크 공간도 커지기 때문에 전체를 사용하는 대신 훈련 프로그램 실행에 집중\n",
    "- requireOnDisk_bool 파라미터를 사용하여 디스크 상에서 시리즈 UID가 발견되는 LUNA 데이터만 사용하고 이에 해당하는 엔트리는 csv에서 거름\n",
    "\"\"\"\n",
    "\n",
    "@functools.lru_cache(1) # 표준 인메모리 캐싱 라이브러리\n",
    "def getCandidateInfoList(requireOnDisk_bool=True): # disk에 없는 데이터를 거르기 위함\n",
    "    # 모든 디스크에 있는 모든 세트를 series_uids로 구성함\n",
    "    # 이렇게 하면 모든 하위 집합을 다운로드 하지 않더라도 사용할 수 있음\n",
    "    mhd_list = glob.glob('D:/Luna/subset*/*.mhd')\n",
    "    presentOnDisk_set = {os.path.split(p)[-1][:-4] for p in mhd_list}\n",
    "    \n",
    "    diameter_dict = {}\n",
    "    with open(\"D:/Luna/annotations.csv\", \"r\") as f:\n",
    "        for row in list(csv.reader(f))[1:]:\n",
    "            series_uid = row[0]\n",
    "            annotationCenter_xyz = tuple([float(x) for x in row[1:4]])\n",
    "            annotationDiameter_mm = float(row[4])\n",
    "            \n",
    "            diameter_dict.setdefault(series_uid, []).append( # 첫번째 인자로 키값, 두번째 인자로 기본값을 넘김\n",
    "                (annotationCenter_xyz, annotationDiameter_mm)\n",
    "            )\n",
    "    \n",
    "    candidateInfo_list = []\n",
    "    with open('D:/Luna/candidates.csv', \"r\") as f:\n",
    "        for row in list(csv.reader(f))[1:]:\n",
    "            series_uid = row[0]\n",
    "            \n",
    "            if series_uid not in presentOnDisk_set and requireOndisk_bool: # series_uid가 없으면 서브셋에 있지만 디스크에는 없으므로 건너뜀\n",
    "                continue\n",
    "                \n",
    "            isNodule_bool = bool(int(row[4]))\n",
    "            candidateCenter_xyz = tuple([float(x) for x in row[1:4]])\n",
    "            \n",
    "            candidateDiameter_mm = 0.0\n",
    "            for annotation_tup in diameter_dict.get(series_uid, []):\n",
    "                annotation_xyz, annotationDiameter_mm = annotation_tup\n",
    "                for i in range(3):\n",
    "                    delta_mm = abs(candidateCenter_xyz[i] - annotationCenter_xyz[i])\n",
    "                    if delta_mm > annotationDiameter_mm / 4: # 반경을 얻기 위해 직경을 2로 나누고, 두 개의 결절 센터가 결절의 크기 기준으로\n",
    "                        break                                # 너무 떨어져 있는 지를 반지름의 절반 길이를 기준으로 판정한다.(바운딩 박스 체크)\n",
    "                else:\n",
    "                    candidateDiameter_mm = annotationDiameter_mm\n",
    "                    break\n",
    "                    \n",
    "            candidateInfo_list.append(CandidateInfoTuple(\n",
    "                isNodule_bool,\n",
    "                candidateDiameter_mm,\n",
    "                series_uid,\n",
    "                candidateCenter_xyz,\n",
    "            ))\n",
    "            \n",
    "    candidateInfo_list.sort(reverse=True) # s내림차순 정렬\n",
    "    return candidateInfo_list"
   ]
  },
  {
   "cell_type": "markdown",
   "id": "ee81a7ca",
   "metadata": {},
   "source": [
    "# 개별 CT 스캔 로딩\n",
    "- 디스크에서 CT 데이터를 얻어와 파이썬 객체로 변환 후 3차원 결절 밀도 데이터로 사용할 수 있도록 만드는 작업\n",
    "- CT 스캔 파일의 원래 포맷은 DICOM이라고 부름\n",
    "- CT 스캔 복셀은 하운스필드 단위(https://en.wikipedia.org/wiki/Hounsfield_scale)로 표시"
   ]
  },
  {
   "cell_type": "code",
   "execution_count": null,
   "id": "0dad32e4",
   "metadata": {},
   "outputs": [],
   "source": [
    "class Ct:\n",
    "    def __init__(self, series_uid):\n",
    "        mhd_path = glob.glob(\n",
    "            'D:/Luna/subset*/{}.mhd'.format(series_uid)\n",
    "        )[0]\n",
    "        \n",
    "        ct_mhd = sitk.ReadImage(mhd_path) # sitk.ReadImage는 .mhd 파일뿐 아니라 .raw 파일도 읽음\n",
    "        ct_a = np.array(sitk.GetArrayFromImage(ct_mhd), dtype=np.float32)\n",
    "        \n",
    "        \"\"\"\n",
    "        공기는 -1000HU(0g/cc), 물은 0HU(1g/cc), 뼈는 +1000HU(2~3g/cc)다. \n",
    "        우리가 관심잇는 종양은 대체로 1g/cc(0HU) 근처이므로 -1000HU, 1000HU을 제거하고 1g/cc가 아닌 것도 제거함\n",
    "        \"\"\" \n",
    "        ct_a.clip(-1000, 1000, ct_a)\n",
    "        \n",
    "        self.series_uid = series_uid\n",
    "        self.hu_a = ct_a\n",
    "        \n",
    "        \"\"\"\n",
    "        환자 좌표계를 사용해 결절 위치 정하기\n",
    "        \"\"\""
   ]
  }
 ],
 "metadata": {
  "kernelspec": {
   "display_name": "Python 3 (ipykernel)",
   "language": "python",
   "name": "python3"
  },
  "language_info": {
   "codemirror_mode": {
    "name": "ipython",
    "version": 3
   },
   "file_extension": ".py",
   "mimetype": "text/x-python",
   "name": "python",
   "nbconvert_exporter": "python",
   "pygments_lexer": "ipython3",
   "version": "3.8.13"
  }
 },
 "nbformat": 4,
 "nbformat_minor": 5
}
